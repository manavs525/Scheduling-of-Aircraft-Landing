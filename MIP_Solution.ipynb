{
  "nbformat": 4,
  "nbformat_minor": 0,
  "metadata": {
    "colab": {
      "name": "ALP.ipynb",
      "private_outputs": true,
      "provenance": [],
      "collapsed_sections": []
    },
    "kernelspec": {
      "name": "python3",
      "display_name": "Python 3"
    },
    "language_info": {
      "name": "python"
    }
  },
  "cells": [
    {
      "cell_type": "code",
      "source": [
        "pip install gurobipy"
      ],
      "metadata": {
        "id": "h0LxpRi6jAiD"
      },
      "execution_count": null,
      "outputs": []
    },
    {
      "cell_type": "code",
      "execution_count": null,
      "metadata": {
        "id": "Vsy-1Pz9iy4-"
      },
      "outputs": [],
      "source": [
        "import numpy as np\n",
        "from gurobipy import *\n",
        "import os"
      ]
    },
    {
      "cell_type": "code",
      "source": [
        "def fetch_data(file_name):\n",
        "    data=open(os.getcwd() +'/'+ file_name,'r')\n",
        "    lines=data.readlines()\n",
        "    num_planes=int(lines[0].split()[0])\n",
        "    freeze_time=int(lines[0].split()[1])\n",
        "    #creating arrays without initialzigin entries\n",
        "\n",
        "    flight_details=np.empty([num_planes,6],dtype=float)\n",
        "    sep_time=np.empty([num_planes,num_planes],dtype=int)\n",
        "    s=''\n",
        "    for line in lines[1:]:\n",
        "        s=s+line\n",
        "    s=s.split()\n",
        "    flag=0\n",
        "    count=0\n",
        "    for items in [s[x:x+6+num_planes] for x in range(0,len(s),num_planes+6)]:\n",
        "        flight_details[count]=[float(x) for x in items[:6]]\n",
        "        sep_time[count]=[int(x) for x in items[6:]]\n",
        "        count=count+1\n",
        "    print(flight_details)\n",
        "    print(sep_time)\n",
        "    data.close()\n",
        "    return num_planes,flight_details,sep_time\n"
      ],
      "metadata": {
        "id": "QUzUH5rgjPRE"
      },
      "execution_count": null,
      "outputs": []
    },
    {
      "cell_type": "code",
      "source": [
        "fetch_data('airland8.txt')\n",
        "'''number of planes (p), freeze time\n",
        "for each plane i (i=1,...,p):\n",
        "   appearance time, earliest landing time, target landing time,\n",
        "   latest landing time, penalty cost per unit of time for landing\n",
        "   before target, penalty cost per unit of time for landing\n",
        "   after target\n",
        "   for each plane j (j=1,...p): separation time required after \n",
        "                                i lands before j can land'''"
      ],
      "metadata": {
        "id": "swI1s1-I4DoZ"
      },
      "execution_count": null,
      "outputs": []
    },
    {
      "cell_type": "code",
      "source": [
        "\n",
        "def schedule(flight_ids,flights,clearance,frozen=None,scheduling_type='static',prev_scheduled_times={}):\n",
        "    num_flights=len(flight_ids)\n",
        "    try:\n",
        "        #Creating a Gurobi model\n",
        "        model=Model(\"Aircraft Landing Schedule\")\n",
        "        #difference of latest landing time and earliest landing time\n",
        "        M=max(flights[i,3] for i in flight_ids)-min(flights[i,1] for i in flight_ids)\n",
        "\n",
        "        # penalty cost for landing after target\n",
        "        z_pos={}\n",
        "        for i in flight_ids:\n",
        "            z_pos[i]=flights[i,5]\n",
        "        # penalty cost for landing before target\n",
        "        z_neg={}\n",
        "        for i in flight_ids:\n",
        "            z_neg[i]=flights[i,4]\n",
        "    \n",
        "        x_={}\n",
        "        for i in flight_ids:\n",
        "            x_[i]=0\n",
        "        del_={}\n",
        "        for i in flight_ids:\n",
        "            for j in flight_ids:\n",
        "                del_[i,j]=0\n",
        "        D={}\n",
        "        if scheduling_type!='static':\n",
        "            for i in list(prev_scheduled_times.keys()):\n",
        "                D[i]=1\n",
        "                \n",
        "        #Adding decision variables\n",
        "        z_p=model.addVars(z_pos.keys(),lb=0,ub=GRB.INFINITY,obj=z_pos,vtype=GRB.CONTINUOUS,name=\"z_p\") #lateness of flight\n",
        "        z_n=model.addVars(z_neg.keys(),lb=0,ub=GRB.INFINITY,obj=z_neg,vtype=GRB.CONTINUOUS,name=\"z_n\") #earliness of flight\n",
        "        x=model.addVars(x_.keys(),lb=0,ub=GRB.INFINITY,obj=x_,vtype=GRB.CONTINUOUS,name=\"x\") #landing time of aircraft\n",
        "        d=model.addVars(del_.keys(),lb=0,ub=1,obj=del_,vtype=GRB.BINARY,name=\"d\") #whether i lands before aircraft j\n",
        "        D=model.addVars(D.keys(),lb=0,ub=GRB.INFINITY,obj=D,vtype=GRB.CONTINUOUS,name=\"D\") #displacement function\n",
        "\n",
        "        \n",
        "        if scheduling_type!='static':\n",
        "            # Change objective\n",
        "            model.setObjective((quicksum(flights[i,5]*z_p[i]+flights[i,4]*z_n[i] for i in flight_ids)+\n",
        "                               quicksum(D[i] for i in list(prev_scheduled_times.keys()))), GRB.MINIMIZE)\n",
        "                               \n",
        "\n",
        "        #Adding constraints\n",
        "        model.addConstrs((x[j]-x[i]>=clearance[i,j] - d[j,i]*M for i in flight_ids for j in flight_ids if j!=i),name=\"Clearance\") #clearnace constraint , 6\n",
        "        model.addConstrs((z_p[i]>=x[i]-flights[i,2] for i in flight_ids),name=\"+\") #diff of landing and target landing sud be less than lateness , 4, 5\n",
        "        model.addConstrs((z_n[i]>=flights[i,2]-x[i] for i in flight_ids),name=\"-\") #diff of target and landing sud be less than earliness\n",
        "        model.addConstrs((x[i]>=flights[i,1] for i in flight_ids),name=\"Land after earliest landing time\") #2 and 3\n",
        "        model.addConstrs((x[i]<=flights[i,3] for i in flight_ids),name=\"Land before latest landing time\")\n",
        "        model.addConstrs((d[i,j]+d[j,i]==1 for i in flight_ids for j in flight_ids if j!=i),name=\"~\") #one lands before another ,1\n",
        "\n",
        "        # if some landing times are frozen, they can't be changed\n",
        "        if frozen!=None:\n",
        "            model.addConstrs((x[i]==j for i,j in frozen.items()),name=\"landing times frozen\")\n",
        "\n",
        "        # if it's dynamic scheduling, add max displacement constraints\n",
        "        if scheduling_type!='static':\n",
        "            model.addConstrs((D[i]>=(prev_scheduled_times[i]-x[i])*flights[i,4] for i in list(prev_scheduled_times.keys()) if prev_scheduled_times[i]<flights[i,2]),name=\"displacement if originally scheduled to land before target time\")\n",
        "            model.addConstrs((D[i]>=(x[i]-prev_scheduled_times[i])*flights[i,5] for i in list(prev_scheduled_times.keys()) if prev_scheduled_times[i]>flights[i,2]),name=\"displacemnt if orignally scheduled to land after target time\")\n",
        "            model.addConstrs((D[i]>=flights[i,4]*(prev_scheduled_times[i]-x[i]) for i in list(prev_scheduled_times.keys()) if prev_scheduled_times[i]==flights[i,2]),name=\"displacement if originally scheduled to land at taget time1\")\n",
        "            model.addConstrs((D[i]>=flights[i,5]*(x[i]-prev_scheduled_times[i]) for i in list(prev_scheduled_times.keys()) if prev_scheduled_times[i]==flights[i,2]),name=\"displacement if originally scheduled to land at target time2\")\n",
        "            model.addConstrs((D[i]<=50 for i in list(prev_scheduled_times.keys())),name=\"Limiting displacement\") \n",
        "            \n",
        "            \n",
        "        model.optimize()\n",
        "\n",
        "        # Displaying scheduled landing times\n",
        "\n",
        "        sch_times={}\n",
        "        for i in flight_ids:\n",
        "            sch_times[i]=model.getVarByName(\"x[\"+str(i)+\"]\").X\n",
        "            if scheduling_type=='static':\n",
        "                print('%s %g' % ('SCHEDULED LANDING TIME FOR AIRCRAFT '+str(i)+\" = \", model.getVarByName(\"x[\"+str(i)+\"]\").X))\n",
        "            #print(\"Z_pos[%s]=  %s and Z_neg[%s]= %s\"%(i,model.getVarByName(\"z_p[\"+str(i)+\"]\").X,i,model.getVarByName(\"z_n[\"+str(i)+\"]\").X))\n",
        "\n",
        "        if scheduling_type!='static':\n",
        "            '''\n",
        "            for i in list(prev_scheduled_times.keys()):\n",
        "                print(\"D[%s]= %s\" % (i,model.getVarByName(\"D[\"+str(i)+\"]\").X))\n",
        "            '''\n",
        "            ori_cost=sum((flights[i,5]*model.getVarByName(\"z_p[\"+str(i)+\"]\").X)+(flights[i,4]*model.getVarByName(\"z_n[\"+str(i)+\"]\").X) for i in flight_ids)\n",
        "            #print(ori_cost)\n",
        "            disp_cost=model.objVal-ori_cost\n",
        "            \n",
        "   \n",
        "    except GurobiError as e:\n",
        "        print('Error code ' + str(e.errno) + \": \" + str(e))\n",
        "\n",
        "    except AttributeError as a:\n",
        "        print('Encountered an attribute error '+str(a))\n",
        "\n",
        "    if scheduling_type=='static':\n",
        "        return sch_times,model.objVal  \n",
        "    else:\n",
        "        return sch_times,disp_cost,ori_cost "
      ],
      "metadata": {
        "id": "S2yy1UDhjjQT"
      },
      "execution_count": null,
      "outputs": []
    },
    {
      "cell_type": "code",
      "source": [
        "def dynamic_schedule():\n",
        "    \n",
        "    t=0\n",
        "    F0=[i for i in range(num_flights)]      #Set of aircraft that have not yet appeared by time t\n",
        "    F1=[]       #Set of aircraft that have appeared by time t, but have not yet landed or had their landing times frozen ai > t\n",
        "    F2=[]       #Set of aircraft that have appeared by time t and have either landed or have had their landing time frozen ai <=t xi > t+t*\n",
        "    x={i:9999 for i in range(num_flights)}       #Dictionary of landing time scheduled/updated as time passes with flight ids as keys ai<= t , xi <= t+t*\n",
        "    Z_disp=0        #accumulated displacement cost\n",
        "    t_star=20   #Freeze time (any aircraft scheduled to land with within t_star of current time has it's landing time frozen)\n",
        "    \n",
        "\n",
        "    t,ind=min((flights[i,0],i) for i in F0)     #Starting with the first flight to appear\n",
        "    F1.append(ind)\n",
        "    F0.remove(ind)\n",
        "    x[ind]=flights[ind,2] #target landing time\n",
        "\n",
        "    #while there are flights yet to be appeared\n",
        "    while(len(F0)>0):\n",
        "\n",
        "        # Get next flight's apperance time (set as current time) and it's flight id\n",
        "        t,ind=min((flights[i,0],i) for i in F0)\n",
        "        F1.append(ind)\n",
        "        F0.remove(ind)\n",
        "\n",
        "        # Check if any flights in F1 have their landing times frozen by current time t, if yes, then move them to F2\n",
        "        frozen_=[]\n",
        "        for items in F1:\n",
        "            if x[items]<=t+t_star:\n",
        "                frozen_.append(items)\n",
        "        F1=list(set(F1)-set(frozen_))\n",
        "        F2=F2+frozen_\n",
        "        \n",
        "        flights_with_time_frozen={i:j for i,j in x.items() if i in F2}\n",
        "\n",
        "        # Schedule flights that have appeared and reschedule, if required, previously scheduled flights except for those which have landed or have had their landing time frozen\n",
        "        x_new,disp_cost,landing_cost=schedule(F1+F2,flights,clearance,frozen=flights_with_time_frozen,scheduling_type='dynamic',prev_scheduled_times={i:j for i,j in x.items() if i in [item for item in F1 if item!=ind]})\n",
        "        Z_disp+=disp_cost\n",
        "        for ind,time in x_new.items():\n",
        "            x[ind]=time\n",
        "    print(\"\\n\\n\\nDYNAMIC SCHEDULE OF FLIGHTS\")\n",
        "    for ind,time in x.items():\n",
        "        print(\"SCHEDULED TIME OF LANDING OF FLIGHT %s is : %s\" % (ind,time))\n",
        "    print(\"Total Displacement Cost: %s\" % Z_disp)\n",
        "    print(\"Total Landing Cost: %s\" % landing_cost)"
      ],
      "metadata": {
        "id": "8mzGgX1Kjyq1"
      },
      "execution_count": null,
      "outputs": []
    },
    {
      "cell_type": "code",
      "source": [
        "\n",
        "num_flights,flights,clearance=fetch_data('airland8.txt')\n",
        "dynamic_schedule()\n",
        "resp=input(\"\\n\\n\\nDo you wanna check the scheduling for same flights in static case???? If yes, enter 1: \")\n",
        "if resp==1:\n",
        "    scheduled_time,cost=schedule([i for i in range(num_flights)],flights,clearance)\n",
        "    print(\"Landing cost = %s\" % cost)\n",
        "  #/content/airland1.txt"
      ],
      "metadata": {
        "id": "_3Fh5WQKj5Dw"
      },
      "execution_count": null,
      "outputs": []
    },
    {
      "cell_type": "code",
      "source": [
        "schedule([i for i in range(num_flights)],flights,clearance)\n"
      ],
      "metadata": {
        "id": "0IDFB551_ii4"
      },
      "execution_count": null,
      "outputs": []
    },
    {
      "cell_type": "code",
      "source": [
        ""
      ],
      "metadata": {
        "id": "M_RpLikNCjWp"
      },
      "execution_count": null,
      "outputs": []
    }
  ]
}